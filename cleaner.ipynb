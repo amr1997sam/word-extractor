{
 "cells": [
  {
   "cell_type": "code",
   "execution_count": 2,
   "id": "08eb2cb4-7f2d-4fcf-ba4c-b8361c7bb9f9",
   "metadata": {},
   "outputs": [],
   "source": [
    "import pandas as pd\n",
    "import numpy as np"
   ]
  },
  {
   "cell_type": "code",
   "execution_count": 3,
   "id": "b1b91c39-8108-4125-b1e0-7a4bb6fbb750",
   "metadata": {},
   "outputs": [],
   "source": [
    "df=pd.read_csv(\"C:/dev/SQLdemo/Efreq.csv\", keep_default_na=False)\n",
    "# the parameter keep_default_na is very important to deactivate the default consideration of any string valued 'null' or 'nan' as a missing value."
   ]
  },
  {
   "cell_type": "code",
   "execution_count": 4,
   "id": "47e2c2c3-b242-4599-9dc4-f2c4ddf8edd7",
   "metadata": {},
   "outputs": [],
   "source": [
    "df.columns = ['Word', 'Count']"
   ]
  },
  {
   "cell_type": "code",
   "execution_count": 5,
   "id": "bf450d8c-8870-4acd-9e33-991ab0d2a577",
   "metadata": {},
   "outputs": [],
   "source": [
    "word_list = df['Word']"
   ]
  },
  {
   "cell_type": "code",
   "execution_count": 6,
   "id": "a9477260-3364-4f82-b050-981c65366dc7",
   "metadata": {},
   "outputs": [],
   "source": [
    "df2 = pd.read_csv(\"C:/dev/SQLdemo/words.txt\", keep_default_na=False, sep='\\0', header=None)\n",
    "# from https://github.com/dwyl/english-words"
   ]
  },
  {
   "cell_type": "code",
   "execution_count": 7,
   "id": "97e6bad6-82c5-4e67-9ee2-084b599b66d0",
   "metadata": {},
   "outputs": [
    {
     "data": {
      "text/html": [
       "<div>\n",
       "<style scoped>\n",
       "    .dataframe tbody tr th:only-of-type {\n",
       "        vertical-align: middle;\n",
       "    }\n",
       "\n",
       "    .dataframe tbody tr th {\n",
       "        vertical-align: top;\n",
       "    }\n",
       "\n",
       "    .dataframe thead th {\n",
       "        text-align: right;\n",
       "    }\n",
       "</style>\n",
       "<table border=\"1\" class=\"dataframe\">\n",
       "  <thead>\n",
       "    <tr style=\"text-align: right;\">\n",
       "      <th></th>\n",
       "      <th>0</th>\n",
       "    </tr>\n",
       "  </thead>\n",
       "  <tbody>\n",
       "    <tr>\n",
       "      <th>0</th>\n",
       "      <td>2</td>\n",
       "    </tr>\n",
       "    <tr>\n",
       "      <th>1</th>\n",
       "      <td>1080</td>\n",
       "    </tr>\n",
       "    <tr>\n",
       "      <th>2</th>\n",
       "      <td>&amp;c</td>\n",
       "    </tr>\n",
       "    <tr>\n",
       "      <th>3</th>\n",
       "      <td>10-point</td>\n",
       "    </tr>\n",
       "    <tr>\n",
       "      <th>4</th>\n",
       "      <td>10th</td>\n",
       "    </tr>\n",
       "    <tr>\n",
       "      <th>...</th>\n",
       "      <td>...</td>\n",
       "    </tr>\n",
       "    <tr>\n",
       "      <th>466545</th>\n",
       "      <td>Zwolle</td>\n",
       "    </tr>\n",
       "    <tr>\n",
       "      <th>466546</th>\n",
       "      <td>Zworykin</td>\n",
       "    </tr>\n",
       "    <tr>\n",
       "      <th>466547</th>\n",
       "      <td>ZZ</td>\n",
       "    </tr>\n",
       "    <tr>\n",
       "      <th>466548</th>\n",
       "      <td>zZt</td>\n",
       "    </tr>\n",
       "    <tr>\n",
       "      <th>466549</th>\n",
       "      <td>ZZZ</td>\n",
       "    </tr>\n",
       "  </tbody>\n",
       "</table>\n",
       "<p>466550 rows × 1 columns</p>\n",
       "</div>"
      ],
      "text/plain": [
       "               0\n",
       "0              2\n",
       "1           1080\n",
       "2             &c\n",
       "3       10-point\n",
       "4           10th\n",
       "...          ...\n",
       "466545    Zwolle\n",
       "466546  Zworykin\n",
       "466547        ZZ\n",
       "466548       zZt\n",
       "466549       ZZZ\n",
       "\n",
       "[466550 rows x 1 columns]"
      ]
     },
     "execution_count": 7,
     "metadata": {},
     "output_type": "execute_result"
    }
   ],
   "source": [
    "df2"
   ]
  },
  {
   "cell_type": "code",
   "execution_count": 8,
   "id": "28c12cf6-370d-44fe-b800-567049989e04",
   "metadata": {},
   "outputs": [
    {
     "data": {
      "text/plain": [
       "Word     333333\n",
       "Count    333333\n",
       "dtype: int64"
      ]
     },
     "execution_count": 8,
     "metadata": {},
     "output_type": "execute_result"
    }
   ],
   "source": [
    "df.count()"
   ]
  },
  {
   "cell_type": "code",
   "execution_count": 9,
   "id": "46743bbc-30b2-4665-827f-964392300209",
   "metadata": {},
   "outputs": [
    {
     "data": {
      "text/plain": [
       "0    466550\n",
       "dtype: int64"
      ]
     },
     "execution_count": 9,
     "metadata": {},
     "output_type": "execute_result"
    }
   ],
   "source": [
    "df2.count()"
   ]
  },
  {
   "cell_type": "code",
   "execution_count": 10,
   "id": "0684a63c-9050-4ef4-a733-630dfa3ad996",
   "metadata": {},
   "outputs": [
    {
     "data": {
      "text/html": [
       "<div>\n",
       "<style scoped>\n",
       "    .dataframe tbody tr th:only-of-type {\n",
       "        vertical-align: middle;\n",
       "    }\n",
       "\n",
       "    .dataframe tbody tr th {\n",
       "        vertical-align: top;\n",
       "    }\n",
       "\n",
       "    .dataframe thead th {\n",
       "        text-align: right;\n",
       "    }\n",
       "</style>\n",
       "<table border=\"1\" class=\"dataframe\">\n",
       "  <thead>\n",
       "    <tr style=\"text-align: right;\">\n",
       "      <th></th>\n",
       "      <th>Word</th>\n",
       "      <th>Count</th>\n",
       "    </tr>\n",
       "  </thead>\n",
       "  <tbody>\n",
       "  </tbody>\n",
       "</table>\n",
       "</div>"
      ],
      "text/plain": [
       "Empty DataFrame\n",
       "Columns: [Word, Count]\n",
       "Index: []"
      ]
     },
     "execution_count": 10,
     "metadata": {},
     "output_type": "execute_result"
    }
   ],
   "source": [
    "df[pd.isna(word_list)]"
   ]
  },
  {
   "cell_type": "code",
   "execution_count": 11,
   "id": "0ca69788-8f9e-40ac-8120-c08be37e20aa",
   "metadata": {},
   "outputs": [
    {
     "data": {
      "text/html": [
       "<div>\n",
       "<style scoped>\n",
       "    .dataframe tbody tr th:only-of-type {\n",
       "        vertical-align: middle;\n",
       "    }\n",
       "\n",
       "    .dataframe tbody tr th {\n",
       "        vertical-align: top;\n",
       "    }\n",
       "\n",
       "    .dataframe thead th {\n",
       "        text-align: right;\n",
       "    }\n",
       "</style>\n",
       "<table border=\"1\" class=\"dataframe\">\n",
       "  <thead>\n",
       "    <tr style=\"text-align: right;\">\n",
       "      <th></th>\n",
       "      <th>0</th>\n",
       "    </tr>\n",
       "  </thead>\n",
       "  <tbody>\n",
       "  </tbody>\n",
       "</table>\n",
       "</div>"
      ],
      "text/plain": [
       "Empty DataFrame\n",
       "Columns: [0]\n",
       "Index: []"
      ]
     },
     "execution_count": 11,
     "metadata": {},
     "output_type": "execute_result"
    }
   ],
   "source": [
    "df2[pd.isna(df2[0])]"
   ]
  },
  {
   "cell_type": "code",
   "execution_count": 12,
   "id": "62484ad9-4866-4ba7-8a1d-e7b60e4e763f",
   "metadata": {},
   "outputs": [
    {
     "data": {
      "text/plain": [
       "0         False\n",
       "1         False\n",
       "2         False\n",
       "3         False\n",
       "4         False\n",
       "          ...  \n",
       "333328    False\n",
       "333329    False\n",
       "333330    False\n",
       "333331    False\n",
       "333332    False\n",
       "Name: Word, Length: 333333, dtype: bool"
      ]
     },
     "execution_count": 12,
     "metadata": {},
     "output_type": "execute_result"
    }
   ],
   "source": [
    "pd.isna(word_list)"
   ]
  },
  {
   "cell_type": "code",
   "execution_count": 13,
   "id": "d30f0f0b-a6e7-45b7-8917-6da4e4379a16",
   "metadata": {},
   "outputs": [
    {
     "data": {
      "text/plain": [
       "'null'"
      ]
     },
     "execution_count": 13,
     "metadata": {},
     "output_type": "execute_result"
    }
   ],
   "source": [
    "word_list[2577]"
   ]
  },
  {
   "cell_type": "code",
   "execution_count": 14,
   "id": "04113cb4-202a-45d9-a2f2-7beab5ac9b3b",
   "metadata": {},
   "outputs": [
    {
     "data": {
      "text/plain": [
       "str"
      ]
     },
     "execution_count": 14,
     "metadata": {},
     "output_type": "execute_result"
    }
   ],
   "source": [
    "type(word_list[2577])"
   ]
  },
  {
   "cell_type": "code",
   "execution_count": 15,
   "id": "ce8b469f-9339-428a-93d7-383126f11cee",
   "metadata": {},
   "outputs": [
    {
     "data": {
      "text/plain": [
       "'height'"
      ]
     },
     "execution_count": 15,
     "metadata": {},
     "output_type": "execute_result"
    }
   ],
   "source": [
    "word_list[2576]"
   ]
  },
  {
   "cell_type": "code",
   "execution_count": 16,
   "id": "af6dc384-5117-4240-acce-95446a4f39e2",
   "metadata": {},
   "outputs": [
    {
     "data": {
      "text/plain": [
       "str"
      ]
     },
     "execution_count": 16,
     "metadata": {},
     "output_type": "execute_result"
    }
   ],
   "source": [
    "type(word_list[2576])"
   ]
  },
  {
   "cell_type": "code",
   "execution_count": 17,
   "id": "bc33b359-6bcd-4eb0-b6ab-a5673cb053cf",
   "metadata": {},
   "outputs": [
    {
     "data": {
      "text/plain": [
       "'nan'"
      ]
     },
     "execution_count": 17,
     "metadata": {},
     "output_type": "execute_result"
    }
   ],
   "source": [
    "word_list[12819]"
   ]
  },
  {
   "cell_type": "code",
   "execution_count": 18,
   "id": "6d22a3ec-90a4-422e-b4a8-55d6c5554f96",
   "metadata": {},
   "outputs": [
    {
     "data": {
      "text/plain": [
       "str"
      ]
     },
     "execution_count": 18,
     "metadata": {},
     "output_type": "execute_result"
    }
   ],
   "source": [
    "type(word_list[12819])"
   ]
  },
  {
   "cell_type": "code",
   "execution_count": 19,
   "id": "f74897a1-72ac-4c58-b8ab-3d4796b5f9f3",
   "metadata": {},
   "outputs": [
    {
     "data": {
      "text/plain": [
       "0         False\n",
       "1         False\n",
       "2         False\n",
       "3         False\n",
       "4         False\n",
       "          ...  \n",
       "333328    False\n",
       "333329    False\n",
       "333330    False\n",
       "333331    False\n",
       "333332    False\n",
       "Name: Word, Length: 333333, dtype: bool"
      ]
     },
     "execution_count": 19,
     "metadata": {},
     "output_type": "execute_result"
    }
   ],
   "source": [
    "word_list.str.contains(',', regex=False)"
   ]
  },
  {
   "cell_type": "code",
   "execution_count": 20,
   "id": "bc066e6e-7539-4e6f-9997-6ba041d56322",
   "metadata": {},
   "outputs": [
    {
     "data": {
      "text/plain": [
       "Series([], Name: Word, dtype: object)"
      ]
     },
     "execution_count": 20,
     "metadata": {},
     "output_type": "execute_result"
    }
   ],
   "source": [
    "ws= word_list[word_list.str.contains(\"'\", regex=False)]\n",
    "ws"
   ]
  },
  {
   "cell_type": "code",
   "execution_count": 21,
   "id": "e781e0d0-cf7b-47cf-82f4-b6514987dc84",
   "metadata": {},
   "outputs": [],
   "source": [
    "s = df2[0]"
   ]
  },
  {
   "cell_type": "code",
   "execution_count": null,
   "id": "c27f462c-c191-4fcf-91db-d154e2653146",
   "metadata": {},
   "outputs": [],
   "source": [
    "s[s.str.contains(\"\", regex=False)]"
   ]
  },
  {
   "cell_type": "code",
   "execution_count": 47,
   "id": "e9403ff5-c6a2-402c-b94c-57638990ef93",
   "metadata": {},
   "outputs": [],
   "source": [
    "targeted = s[s.str.contains(\"'\", regex=False)]"
   ]
  },
  {
   "cell_type": "code",
   "execution_count": 48,
   "id": "bafedc7c-415a-46ed-aac1-95273ace2da1",
   "metadata": {},
   "outputs": [
    {
     "data": {
      "text/plain": [
       "37                   a'\n",
       "130       Aaron's-beard\n",
       "138              A'asia\n",
       "334             abbey's\n",
       "357             abbot's\n",
       "              ...      \n",
       "464698              x's\n",
       "465117          zebra's\n",
       "466322            zoo's\n",
       "466446              z's\n",
       "466489        Zu'lkadah\n",
       "Name: 0, Length: 4215, dtype: object"
      ]
     },
     "execution_count": 48,
     "metadata": {},
     "output_type": "execute_result"
    }
   ],
   "source": [
    "targeted"
   ]
  },
  {
   "cell_type": "code",
   "execution_count": 49,
   "id": "85208600-6307-4d6d-9242-fce1ec9c785e",
   "metadata": {},
   "outputs": [],
   "source": [
    "targeted = targeted.str.replace(\"'\", '', regex=False)"
   ]
  },
  {
   "cell_type": "code",
   "execution_count": 50,
   "id": "fea4f5bd-36c2-4e37-962d-50c4df615fd8",
   "metadata": {},
   "outputs": [
    {
     "data": {
      "text/plain": [
       "459621                wifes\n",
       "459685                 wigs\n",
       "459747             wildcats\n",
       "460009      will-o-the-wisp\n",
       "460011      willo-the-wispy\n",
       "460012    willo-the-wispish\n",
       "460036              willows\n",
       "460338            windmills\n",
       "460371              windows\n",
       "460681              winners\n",
       "461004             wiretaps\n",
       "461194                wisps\n",
       "461255        witches-besom\n",
       "461256        witches-broom\n",
       "461324          withdrawals\n",
       "461472                 wits\n",
       "461564              wizards\n",
       "461816           wolfs-bane\n",
       "461822           wolfs-head\n",
       "461825            wolfsmilk\n",
       "461934               womans\n",
       "461956                wombs\n",
       "461964               womens\n",
       "462072                 wont\n",
       "462135           woodchucks\n",
       "462140            woodcocks\n",
       "462288          woodpeckers\n",
       "462663                words\n",
       "462705           workbenchs\n",
       "462710            workbooks\n",
       "462737           workhorses\n",
       "462792            workshops\n",
       "463105               worlds\n",
       "463453              wouldnt\n",
       "463578             wrappers\n",
       "463587                wraps\n",
       "463698                wrens\n",
       "463856               wrists\n",
       "463859          wristwatchs\n",
       "463882              writers\n",
       "463911                writs\n",
       "463978              wrongun\n",
       "464005                   ws\n",
       "464043         Wu-lu-mu-chi\n",
       "464589                 xing\n",
       "464698                   xs\n",
       "465117               zebras\n",
       "466322                 zoos\n",
       "466446                   zs\n",
       "466489             Zulkadah\n",
       "Name: 0, dtype: object"
      ]
     },
     "execution_count": 50,
     "metadata": {},
     "output_type": "execute_result"
    }
   ],
   "source": [
    "targeted.tail(50)"
   ]
  },
  {
   "cell_type": "code",
   "execution_count": 27,
   "id": "65dfb8c8-fa04-4f38-b537-d04130a62ce6",
   "metadata": {},
   "outputs": [
    {
     "data": {
      "text/plain": [
       "37                 a'\n",
       "130     Aaron's-beard\n",
       "138            A'asia\n",
       "334           abbey's\n",
       "357           abbot's\n",
       "            ...      \n",
       "6243       affinity's\n",
       "6252    affirmation's\n",
       "6294     affliction's\n",
       "6661      afternoon's\n",
       "6990         agency's\n",
       "Name: 0, Length: 100, dtype: object"
      ]
     },
     "metadata": {},
     "output_type": "display_data"
    }
   ],
   "source": [
    "display(targeted.head(100))"
   ]
  },
  {
   "cell_type": "code",
   "execution_count": 51,
   "id": "af17a079-1a71-42cf-9c53-34b01737e21d",
   "metadata": {},
   "outputs": [
    {
     "data": {
      "text/plain": [
       "0         False\n",
       "1         False\n",
       "2         False\n",
       "3         False\n",
       "4          True\n",
       "          ...  \n",
       "333328    False\n",
       "333329    False\n",
       "333330    False\n",
       "333331    False\n",
       "333332    False\n",
       "Name: Word, Length: 333333, dtype: bool"
      ]
     },
     "execution_count": 51,
     "metadata": {},
     "output_type": "execute_result"
    }
   ],
   "source": [
    "mask = word_list.isin(targeted)\n",
    "mask"
   ]
  },
  {
   "cell_type": "code",
   "execution_count": 52,
   "id": "5a091639-e09c-44e0-aa7b-9ad37554be16",
   "metadata": {},
   "outputs": [
    {
     "data": {
      "text/plain": [
       "4                  a\n",
       "7                 is\n",
       "13                 i\n",
       "22                as\n",
       "34                us\n",
       "             ...    \n",
       "326912    bandwagons\n",
       "330775       canarys\n",
       "330983      turmoils\n",
       "331051       busboys\n",
       "332003      montanas\n",
       "Name: Word, Length: 3299, dtype: object"
      ]
     },
     "execution_count": 52,
     "metadata": {},
     "output_type": "execute_result"
    }
   ],
   "source": [
    "word_list[mask]"
   ]
  },
  {
   "cell_type": "code",
   "execution_count": 53,
   "id": "94fd1754-d6e5-4b7f-af15-145c6214676a",
   "metadata": {},
   "outputs": [],
   "source": [
    "droppable = word_list[mask]"
   ]
  },
  {
   "cell_type": "code",
   "execution_count": 55,
   "id": "cf6c233a-fb68-4da7-bdfd-d7601fa1ac41",
   "metadata": {},
   "outputs": [
    {
     "data": {
      "text/plain": [
       "4                 a\n",
       "7                is\n",
       "13                i\n",
       "22               as\n",
       "34               us\n",
       "87             were\n",
       "89                s\n",
       "94              its\n",
       "119              re\n",
       "127        products\n",
       "139               t\n",
       "156            well\n",
       "157               d\n",
       "166               m\n",
       "171           years\n",
       "176           items\n",
       "203            days\n",
       "230          hotels\n",
       "251          states\n",
       "289           pages\n",
       "305         members\n",
       "312         systems\n",
       "326       resources\n",
       "357        students\n",
       "368          events\n",
       "406          movies\n",
       "414            jobs\n",
       "444           sales\n",
       "453         windows\n",
       "454          photos\n",
       "490          forums\n",
       "495             say\n",
       "511        articles\n",
       "520           users\n",
       "543        programs\n",
       "564         options\n",
       "583           girls\n",
       "594              ca\n",
       "622           files\n",
       "639           areas\n",
       "646        problems\n",
       "679       computers\n",
       "711          months\n",
       "714         friends\n",
       "719            cars\n",
       "720        messages\n",
       "746            arts\n",
       "752       solutions\n",
       "801           miles\n",
       "805    applications\n",
       "Name: Word, dtype: object"
      ]
     },
     "execution_count": 55,
     "metadata": {},
     "output_type": "execute_result"
    }
   ],
   "source": [
    "droppable.head(50)"
   ]
  },
  {
   "cell_type": "code",
   "execution_count": 56,
   "id": "79d99781-5dc4-48d1-843f-79012f9d9c38",
   "metadata": {},
   "outputs": [
    {
     "data": {
      "text/plain": [
       "Index([     4,      7,     13,     22,     34,     87,     89,     94,    119,\n",
       "          127,\n",
       "       ...\n",
       "       317700, 317780, 318332, 321788, 322310, 326912, 330775, 330983, 331051,\n",
       "       332003],\n",
       "      dtype='int64', length=3299)"
      ]
     },
     "execution_count": 56,
     "metadata": {},
     "output_type": "execute_result"
    }
   ],
   "source": [
    "droppable.index"
   ]
  },
  {
   "cell_type": "code",
   "execution_count": 77,
   "id": "1a9f2f2b-e4b0-4736-9544-681995139e4d",
   "metadata": {},
   "outputs": [
    {
     "data": {
      "text/plain": [
       "pandas.core.indexes.base.Index"
      ]
     },
     "execution_count": 77,
     "metadata": {},
     "output_type": "execute_result"
    }
   ],
   "source": [
    "type(droppable.index)"
   ]
  },
  {
   "cell_type": "code",
   "execution_count": 72,
   "id": "2b1f2494-52ed-467f-a3a5-a4b78de64656",
   "metadata": {},
   "outputs": [
    {
     "data": {
      "text/html": [
       "<div>\n",
       "<style scoped>\n",
       "    .dataframe tbody tr th:only-of-type {\n",
       "        vertical-align: middle;\n",
       "    }\n",
       "\n",
       "    .dataframe tbody tr th {\n",
       "        vertical-align: top;\n",
       "    }\n",
       "\n",
       "    .dataframe thead th {\n",
       "        text-align: right;\n",
       "    }\n",
       "</style>\n",
       "<table border=\"1\" class=\"dataframe\">\n",
       "  <thead>\n",
       "    <tr style=\"text-align: right;\">\n",
       "      <th></th>\n",
       "      <th>Word</th>\n",
       "      <th>Count</th>\n",
       "    </tr>\n",
       "  </thead>\n",
       "  <tbody>\n",
       "    <tr>\n",
       "      <th>4</th>\n",
       "      <td>a</td>\n",
       "      <td>9081174698</td>\n",
       "    </tr>\n",
       "    <tr>\n",
       "      <th>7</th>\n",
       "      <td>is</td>\n",
       "      <td>4705743816</td>\n",
       "    </tr>\n",
       "    <tr>\n",
       "      <th>13</th>\n",
       "      <td>i</td>\n",
       "      <td>3086225277</td>\n",
       "    </tr>\n",
       "    <tr>\n",
       "      <th>22</th>\n",
       "      <td>as</td>\n",
       "      <td>2247431740</td>\n",
       "    </tr>\n",
       "    <tr>\n",
       "      <th>34</th>\n",
       "      <td>us</td>\n",
       "      <td>1229112622</td>\n",
       "    </tr>\n",
       "    <tr>\n",
       "      <th>...</th>\n",
       "      <td>...</td>\n",
       "      <td>...</td>\n",
       "    </tr>\n",
       "    <tr>\n",
       "      <th>326912</th>\n",
       "      <td>bandwagons</td>\n",
       "      <td>13029</td>\n",
       "    </tr>\n",
       "    <tr>\n",
       "      <th>330775</th>\n",
       "      <td>canarys</td>\n",
       "      <td>12790</td>\n",
       "    </tr>\n",
       "    <tr>\n",
       "      <th>330983</th>\n",
       "      <td>turmoils</td>\n",
       "      <td>12778</td>\n",
       "    </tr>\n",
       "    <tr>\n",
       "      <th>331051</th>\n",
       "      <td>busboys</td>\n",
       "      <td>12775</td>\n",
       "    </tr>\n",
       "    <tr>\n",
       "      <th>332003</th>\n",
       "      <td>montanas</td>\n",
       "      <td>12733</td>\n",
       "    </tr>\n",
       "  </tbody>\n",
       "</table>\n",
       "<p>3299 rows × 2 columns</p>\n",
       "</div>"
      ],
      "text/plain": [
       "              Word       Count\n",
       "4                a  9081174698\n",
       "7               is  4705743816\n",
       "13               i  3086225277\n",
       "22              as  2247431740\n",
       "34              us  1229112622\n",
       "...            ...         ...\n",
       "326912  bandwagons       13029\n",
       "330775     canarys       12790\n",
       "330983    turmoils       12778\n",
       "331051     busboys       12775\n",
       "332003    montanas       12733\n",
       "\n",
       "[3299 rows x 2 columns]"
      ]
     },
     "execution_count": 72,
     "metadata": {},
     "output_type": "execute_result"
    }
   ],
   "source": [
    "df.loc[mask]"
   ]
  },
  {
   "cell_type": "code",
   "execution_count": 78,
   "id": "7993d676-bfae-4c6e-ba90-aa8621cf8d95",
   "metadata": {},
   "outputs": [
    {
     "data": {
      "text/html": [
       "<div>\n",
       "<style scoped>\n",
       "    .dataframe tbody tr th:only-of-type {\n",
       "        vertical-align: middle;\n",
       "    }\n",
       "\n",
       "    .dataframe tbody tr th {\n",
       "        vertical-align: top;\n",
       "    }\n",
       "\n",
       "    .dataframe thead th {\n",
       "        text-align: right;\n",
       "    }\n",
       "</style>\n",
       "<table border=\"1\" class=\"dataframe\">\n",
       "  <thead>\n",
       "    <tr style=\"text-align: right;\">\n",
       "      <th></th>\n",
       "      <th>Word</th>\n",
       "      <th>Count</th>\n",
       "    </tr>\n",
       "  </thead>\n",
       "  <tbody>\n",
       "    <tr>\n",
       "      <th>0</th>\n",
       "      <td>the</td>\n",
       "      <td>23135851162</td>\n",
       "    </tr>\n",
       "    <tr>\n",
       "      <th>1</th>\n",
       "      <td>of</td>\n",
       "      <td>13151942776</td>\n",
       "    </tr>\n",
       "    <tr>\n",
       "      <th>2</th>\n",
       "      <td>and</td>\n",
       "      <td>12997637966</td>\n",
       "    </tr>\n",
       "    <tr>\n",
       "      <th>3</th>\n",
       "      <td>to</td>\n",
       "      <td>12136980858</td>\n",
       "    </tr>\n",
       "    <tr>\n",
       "      <th>5</th>\n",
       "      <td>in</td>\n",
       "      <td>8469404971</td>\n",
       "    </tr>\n",
       "    <tr>\n",
       "      <th>...</th>\n",
       "      <td>...</td>\n",
       "      <td>...</td>\n",
       "    </tr>\n",
       "    <tr>\n",
       "      <th>333328</th>\n",
       "      <td>gooek</td>\n",
       "      <td>12711</td>\n",
       "    </tr>\n",
       "    <tr>\n",
       "      <th>333329</th>\n",
       "      <td>gooddg</td>\n",
       "      <td>12711</td>\n",
       "    </tr>\n",
       "    <tr>\n",
       "      <th>333330</th>\n",
       "      <td>gooblle</td>\n",
       "      <td>12711</td>\n",
       "    </tr>\n",
       "    <tr>\n",
       "      <th>333331</th>\n",
       "      <td>gollgo</td>\n",
       "      <td>12711</td>\n",
       "    </tr>\n",
       "    <tr>\n",
       "      <th>333332</th>\n",
       "      <td>golgw</td>\n",
       "      <td>12711</td>\n",
       "    </tr>\n",
       "  </tbody>\n",
       "</table>\n",
       "<p>330034 rows × 2 columns</p>\n",
       "</div>"
      ],
      "text/plain": [
       "           Word        Count\n",
       "0           the  23135851162\n",
       "1            of  13151942776\n",
       "2           and  12997637966\n",
       "3            to  12136980858\n",
       "5            in   8469404971\n",
       "...         ...          ...\n",
       "333328    gooek        12711\n",
       "333329   gooddg        12711\n",
       "333330  gooblle        12711\n",
       "333331   gollgo        12711\n",
       "333332    golgw        12711\n",
       "\n",
       "[330034 rows x 2 columns]"
      ]
     },
     "execution_count": 78,
     "metadata": {},
     "output_type": "execute_result"
    }
   ],
   "source": [
    "df.drop(droppable.index)"
   ]
  },
  {
   "cell_type": "code",
   "execution_count": 80,
   "id": "37fb5017-e954-4a48-89b6-faff40e446aa",
   "metadata": {},
   "outputs": [],
   "source": [
    "cleaned_df = df.drop(droppable.index)"
   ]
  },
  {
   "cell_type": "code",
   "execution_count": 81,
   "id": "1ad2ac20-ce2f-4f9a-8bd5-04d425d11c26",
   "metadata": {},
   "outputs": [
    {
     "data": {
      "text/html": [
       "<div>\n",
       "<style scoped>\n",
       "    .dataframe tbody tr th:only-of-type {\n",
       "        vertical-align: middle;\n",
       "    }\n",
       "\n",
       "    .dataframe tbody tr th {\n",
       "        vertical-align: top;\n",
       "    }\n",
       "\n",
       "    .dataframe thead th {\n",
       "        text-align: right;\n",
       "    }\n",
       "</style>\n",
       "<table border=\"1\" class=\"dataframe\">\n",
       "  <thead>\n",
       "    <tr style=\"text-align: right;\">\n",
       "      <th></th>\n",
       "      <th>Word</th>\n",
       "      <th>Count</th>\n",
       "    </tr>\n",
       "  </thead>\n",
       "  <tbody>\n",
       "    <tr>\n",
       "      <th>0</th>\n",
       "      <td>the</td>\n",
       "      <td>23135851162</td>\n",
       "    </tr>\n",
       "    <tr>\n",
       "      <th>1</th>\n",
       "      <td>of</td>\n",
       "      <td>13151942776</td>\n",
       "    </tr>\n",
       "    <tr>\n",
       "      <th>2</th>\n",
       "      <td>and</td>\n",
       "      <td>12997637966</td>\n",
       "    </tr>\n",
       "    <tr>\n",
       "      <th>3</th>\n",
       "      <td>to</td>\n",
       "      <td>12136980858</td>\n",
       "    </tr>\n",
       "    <tr>\n",
       "      <th>4</th>\n",
       "      <td>a</td>\n",
       "      <td>9081174698</td>\n",
       "    </tr>\n",
       "    <tr>\n",
       "      <th>...</th>\n",
       "      <td>...</td>\n",
       "      <td>...</td>\n",
       "    </tr>\n",
       "    <tr>\n",
       "      <th>333328</th>\n",
       "      <td>gooek</td>\n",
       "      <td>12711</td>\n",
       "    </tr>\n",
       "    <tr>\n",
       "      <th>333329</th>\n",
       "      <td>gooddg</td>\n",
       "      <td>12711</td>\n",
       "    </tr>\n",
       "    <tr>\n",
       "      <th>333330</th>\n",
       "      <td>gooblle</td>\n",
       "      <td>12711</td>\n",
       "    </tr>\n",
       "    <tr>\n",
       "      <th>333331</th>\n",
       "      <td>gollgo</td>\n",
       "      <td>12711</td>\n",
       "    </tr>\n",
       "    <tr>\n",
       "      <th>333332</th>\n",
       "      <td>golgw</td>\n",
       "      <td>12711</td>\n",
       "    </tr>\n",
       "  </tbody>\n",
       "</table>\n",
       "<p>333333 rows × 2 columns</p>\n",
       "</div>"
      ],
      "text/plain": [
       "           Word        Count\n",
       "0           the  23135851162\n",
       "1            of  13151942776\n",
       "2           and  12997637966\n",
       "3            to  12136980858\n",
       "4             a   9081174698\n",
       "...         ...          ...\n",
       "333328    gooek        12711\n",
       "333329   gooddg        12711\n",
       "333330  gooblle        12711\n",
       "333331   gollgo        12711\n",
       "333332    golgw        12711\n",
       "\n",
       "[333333 rows x 2 columns]"
      ]
     },
     "execution_count": 81,
     "metadata": {},
     "output_type": "execute_result"
    }
   ],
   "source": [
    "df"
   ]
  },
  {
   "cell_type": "code",
   "execution_count": 82,
   "id": "bef72ca8-dcf6-4ef2-a707-3c40c2cf4837",
   "metadata": {},
   "outputs": [
    {
     "data": {
      "text/html": [
       "<div>\n",
       "<style scoped>\n",
       "    .dataframe tbody tr th:only-of-type {\n",
       "        vertical-align: middle;\n",
       "    }\n",
       "\n",
       "    .dataframe tbody tr th {\n",
       "        vertical-align: top;\n",
       "    }\n",
       "\n",
       "    .dataframe thead th {\n",
       "        text-align: right;\n",
       "    }\n",
       "</style>\n",
       "<table border=\"1\" class=\"dataframe\">\n",
       "  <thead>\n",
       "    <tr style=\"text-align: right;\">\n",
       "      <th></th>\n",
       "      <th>Word</th>\n",
       "      <th>Count</th>\n",
       "    </tr>\n",
       "  </thead>\n",
       "  <tbody>\n",
       "    <tr>\n",
       "      <th>0</th>\n",
       "      <td>the</td>\n",
       "      <td>23135851162</td>\n",
       "    </tr>\n",
       "    <tr>\n",
       "      <th>1</th>\n",
       "      <td>of</td>\n",
       "      <td>13151942776</td>\n",
       "    </tr>\n",
       "    <tr>\n",
       "      <th>2</th>\n",
       "      <td>and</td>\n",
       "      <td>12997637966</td>\n",
       "    </tr>\n",
       "    <tr>\n",
       "      <th>3</th>\n",
       "      <td>to</td>\n",
       "      <td>12136980858</td>\n",
       "    </tr>\n",
       "    <tr>\n",
       "      <th>5</th>\n",
       "      <td>in</td>\n",
       "      <td>8469404971</td>\n",
       "    </tr>\n",
       "    <tr>\n",
       "      <th>...</th>\n",
       "      <td>...</td>\n",
       "      <td>...</td>\n",
       "    </tr>\n",
       "    <tr>\n",
       "      <th>333328</th>\n",
       "      <td>gooek</td>\n",
       "      <td>12711</td>\n",
       "    </tr>\n",
       "    <tr>\n",
       "      <th>333329</th>\n",
       "      <td>gooddg</td>\n",
       "      <td>12711</td>\n",
       "    </tr>\n",
       "    <tr>\n",
       "      <th>333330</th>\n",
       "      <td>gooblle</td>\n",
       "      <td>12711</td>\n",
       "    </tr>\n",
       "    <tr>\n",
       "      <th>333331</th>\n",
       "      <td>gollgo</td>\n",
       "      <td>12711</td>\n",
       "    </tr>\n",
       "    <tr>\n",
       "      <th>333332</th>\n",
       "      <td>golgw</td>\n",
       "      <td>12711</td>\n",
       "    </tr>\n",
       "  </tbody>\n",
       "</table>\n",
       "<p>330034 rows × 2 columns</p>\n",
       "</div>"
      ],
      "text/plain": [
       "           Word        Count\n",
       "0           the  23135851162\n",
       "1            of  13151942776\n",
       "2           and  12997637966\n",
       "3            to  12136980858\n",
       "5            in   8469404971\n",
       "...         ...          ...\n",
       "333328    gooek        12711\n",
       "333329   gooddg        12711\n",
       "333330  gooblle        12711\n",
       "333331   gollgo        12711\n",
       "333332    golgw        12711\n",
       "\n",
       "[330034 rows x 2 columns]"
      ]
     },
     "execution_count": 82,
     "metadata": {},
     "output_type": "execute_result"
    }
   ],
   "source": [
    "cleaned_df"
   ]
  },
  {
   "cell_type": "code",
   "execution_count": 84,
   "id": "08b2f95e-767a-482e-ae62-baa2c02b44ae",
   "metadata": {},
   "outputs": [],
   "source": [
    "cleaned_df.to_csv('out.csv', index=False) "
   ]
  },
  {
   "cell_type": "code",
   "execution_count": 91,
   "id": "898e424d-c2f9-4e15-9a76-39421db10cf5",
   "metadata": {},
   "outputs": [
    {
     "data": {
      "text/html": [
       "<div>\n",
       "<style scoped>\n",
       "    .dataframe tbody tr th:only-of-type {\n",
       "        vertical-align: middle;\n",
       "    }\n",
       "\n",
       "    .dataframe tbody tr th {\n",
       "        vertical-align: top;\n",
       "    }\n",
       "\n",
       "    .dataframe thead th {\n",
       "        text-align: right;\n",
       "    }\n",
       "</style>\n",
       "<table border=\"1\" class=\"dataframe\">\n",
       "  <thead>\n",
       "    <tr style=\"text-align: right;\">\n",
       "      <th></th>\n",
       "      <th>Word</th>\n",
       "      <th>Count</th>\n",
       "    </tr>\n",
       "  </thead>\n",
       "  <tbody>\n",
       "  </tbody>\n",
       "</table>\n",
       "</div>"
      ],
      "text/plain": [
       "Empty DataFrame\n",
       "Columns: [Word, Count]\n",
       "Index: []"
      ]
     },
     "execution_count": 91,
     "metadata": {},
     "output_type": "execute_result"
    }
   ],
   "source": [
    "cleaned_df[cleaned_df['Word'].str.contains(\"you've\" ,regex=False)]"
   ]
  },
  {
   "cell_type": "code",
   "execution_count": null,
   "id": "7a184f12-32d6-48b4-a792-8b09b0c89d85",
   "metadata": {},
   "outputs": [],
   "source": []
  }
 ],
 "metadata": {
  "kernelspec": {
   "display_name": "Python 3 (ipykernel)",
   "language": "python",
   "name": "python3"
  },
  "language_info": {
   "codemirror_mode": {
    "name": "ipython",
    "version": 3
   },
   "file_extension": ".py",
   "mimetype": "text/x-python",
   "name": "python",
   "nbconvert_exporter": "python",
   "pygments_lexer": "ipython3",
   "version": "3.12.3"
  }
 },
 "nbformat": 4,
 "nbformat_minor": 5
}
